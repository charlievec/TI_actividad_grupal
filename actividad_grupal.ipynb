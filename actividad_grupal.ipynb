{
 "metadata": {
  "language_info": {
   "codemirror_mode": {
    "name": "ipython",
    "version": 3
   },
   "file_extension": ".py",
   "mimetype": "text/x-python",
   "name": "python",
   "nbconvert_exporter": "python",
   "pygments_lexer": "ipython3",
   "version": "3.8.5"
  },
  "orig_nbformat": 2,
  "kernelspec": {
   "name": "python3",
   "display_name": "Python 3.8.5 64-bit"
  },
  "metadata": {
   "interpreter": {
    "hash": "31f2aee4e71d21fbe5cf8b01ff0e069b9275f58929596ceb00d14d90e3e16cd6"
   }
  },
  "interpreter": {
   "hash": "31f2aee4e71d21fbe5cf8b01ff0e069b9275f58929596ceb00d14d90e3e16cd6"
  }
 },
 "nbformat": 4,
 "nbformat_minor": 2,
 "cells": [
  {
   "cell_type": "code",
   "execution_count": 26,
   "metadata": {},
   "outputs": [],
   "source": [
    "import pandas as pd\n",
    "import numpy as np\n",
    "import tensorflow as tf\n",
    "from sklearn.model_selection import train_test_split\n",
    "from sklearn.model_selection import cross_val_score\n",
    "from sklearn.model_selection import StratifiedKFold\n",
    "from sklearn.linear_model import LogisticRegression\n",
    "from sklearn.tree import DecisionTreeClassifier\n",
    "from sklearn.preprocessing import MinMaxScaler\n",
    "\n",
    "import matplotlib.pyplot as plt\n",
    "%matplotlib inline\n",
    "\n",
    "import seaborn as sns\n",
    "sns.set(style=\"darkgrid\")"
   ]
  },
  {
   "cell_type": "code",
   "execution_count": 27,
   "metadata": {},
   "outputs": [
    {
     "output_type": "stream",
     "name": "stdout",
     "text": [
      "2.5.0\n"
     ]
    }
   ],
   "source": [
    "print(tf.__version__)"
   ]
  },
  {
   "cell_type": "code",
   "execution_count": 28,
   "metadata": {},
   "outputs": [],
   "source": [
    "colsCC = ['dateRep','day','month','year','cases','deaths','countriesAndTerritories','geoId','countryterritoryCode','popData2019','continentExp','Cumulative_number_for_14_days_of_COVID-19_cases_per_100000']\n",
    "\n",
    "dtaContagiosCovid = pd.read_csv(r'https://opendata.ecdc.europa.eu/covid19/casedistribution/csv',  header=None, names=colsCC)"
   ]
  },
  {
   "cell_type": "code",
   "execution_count": 29,
   "metadata": {},
   "outputs": [
    {
     "output_type": "execute_result",
     "data": {
      "text/plain": [
       "           dateRep    day  month   year  cases deaths countriesAndTerritories  \\\n",
       "count        61901  61901  61901  61901  61901  61901                   61901   \n",
       "unique         351     32     13      3   5967   1050                     215   \n",
       "top     07/12/2020     14     10   2020      0      0                  Mexico   \n",
       "freq           213   2115   6513  61833  19411  36728                     350   \n",
       "\n",
       "        geoId countryterritoryCode popData2019 continentExp  \\\n",
       "count   61626                61778       61778        61901   \n",
       "unique    214                  213         213            7   \n",
       "top        CH                  BEL    83019213       Europe   \n",
       "freq      350                  350         350        17372   \n",
       "\n",
       "       Cumulative_number_for_14_days_of_COVID-19_cases_per_100000  \n",
       "count                                               59022          \n",
       "unique                                              39048          \n",
       "top                                                     0          \n",
       "freq                                                 6091          "
      ],
      "text/html": "<div>\n<style scoped>\n    .dataframe tbody tr th:only-of-type {\n        vertical-align: middle;\n    }\n\n    .dataframe tbody tr th {\n        vertical-align: top;\n    }\n\n    .dataframe thead th {\n        text-align: right;\n    }\n</style>\n<table border=\"1\" class=\"dataframe\">\n  <thead>\n    <tr style=\"text-align: right;\">\n      <th></th>\n      <th>dateRep</th>\n      <th>day</th>\n      <th>month</th>\n      <th>year</th>\n      <th>cases</th>\n      <th>deaths</th>\n      <th>countriesAndTerritories</th>\n      <th>geoId</th>\n      <th>countryterritoryCode</th>\n      <th>popData2019</th>\n      <th>continentExp</th>\n      <th>Cumulative_number_for_14_days_of_COVID-19_cases_per_100000</th>\n    </tr>\n  </thead>\n  <tbody>\n    <tr>\n      <th>count</th>\n      <td>61901</td>\n      <td>61901</td>\n      <td>61901</td>\n      <td>61901</td>\n      <td>61901</td>\n      <td>61901</td>\n      <td>61901</td>\n      <td>61626</td>\n      <td>61778</td>\n      <td>61778</td>\n      <td>61901</td>\n      <td>59022</td>\n    </tr>\n    <tr>\n      <th>unique</th>\n      <td>351</td>\n      <td>32</td>\n      <td>13</td>\n      <td>3</td>\n      <td>5967</td>\n      <td>1050</td>\n      <td>215</td>\n      <td>214</td>\n      <td>213</td>\n      <td>213</td>\n      <td>7</td>\n      <td>39048</td>\n    </tr>\n    <tr>\n      <th>top</th>\n      <td>07/12/2020</td>\n      <td>14</td>\n      <td>10</td>\n      <td>2020</td>\n      <td>0</td>\n      <td>0</td>\n      <td>Mexico</td>\n      <td>CH</td>\n      <td>BEL</td>\n      <td>83019213</td>\n      <td>Europe</td>\n      <td>0</td>\n    </tr>\n    <tr>\n      <th>freq</th>\n      <td>213</td>\n      <td>2115</td>\n      <td>6513</td>\n      <td>61833</td>\n      <td>19411</td>\n      <td>36728</td>\n      <td>350</td>\n      <td>350</td>\n      <td>350</td>\n      <td>350</td>\n      <td>17372</td>\n      <td>6091</td>\n    </tr>\n  </tbody>\n</table>\n</div>"
     },
     "metadata": {},
     "execution_count": 29
    }
   ],
   "source": [
    "dtaContagiosCovid.describe()"
   ]
  },
  {
   "cell_type": "code",
   "execution_count": 30,
   "metadata": {},
   "outputs": [],
   "source": [
    "colsTMC = ['Name,WHO Region', 'Cases - cumulative total', 'Cases - cumulative total per 100000 population', 'Cases - newly reported in last 7 days', 'Cases - newly reported in last 7 days per 100000 population', 'Cases - newly reported in last 24 hours', 'Deaths - cumulative total', 'Deaths - cumulative total per 100000 population', 'Deaths - newly reported in last 7 days', 'Deaths - newly reported in last 7 days per 100000 population', 'Deaths - newly reported in last 24 hours', 'Transmission Classification']\n",
    "\n",
    "dtaTasaMortalidadCovid = pd.read_csv(r'https://covid19.who.int/WHO-COVID-19-global-table-data.csv',  header=None, names=colsTMC)"
   ]
  },
  {
   "cell_type": "code",
   "execution_count": 31,
   "metadata": {},
   "outputs": [
    {
     "output_type": "execute_result",
     "data": {
      "text/plain": [
       "       Name,WHO Region Cases - cumulative total  \\\n",
       "count              238                      239   \n",
       "unique               8                      224   \n",
       "top             Europe                        0   \n",
       "freq                62                       14   \n",
       "\n",
       "       Cases - cumulative total per 100000 population  \\\n",
       "count                                             238   \n",
       "unique                                            225   \n",
       "top                                                 0   \n",
       "freq                                               14   \n",
       "\n",
       "       Cases - newly reported in last 7 days  \\\n",
       "count                                    239   \n",
       "unique                                   183   \n",
       "top                                        0   \n",
       "freq                                      36   \n",
       "\n",
       "       Cases - newly reported in last 7 days per 100000 population  \\\n",
       "count                                                 238            \n",
       "unique                                                200            \n",
       "top                                                     0            \n",
       "freq                                                   35            \n",
       "\n",
       "       Cases - newly reported in last 24 hours Deaths - cumulative total  \\\n",
       "count                                      239                       239   \n",
       "unique                                     135                       196   \n",
       "top                                          0                         0   \n",
       "freq                                        78                        28   \n",
       "\n",
       "       Deaths - cumulative total per 100000 population  \\\n",
       "count                                              238   \n",
       "unique                                             205   \n",
       "top                                                  0   \n",
       "freq                                                28   \n",
       "\n",
       "       Deaths - newly reported in last 7 days  \\\n",
       "count                                     239   \n",
       "unique                                    101   \n",
       "top                                         0   \n",
       "freq                                       85   \n",
       "\n",
       "       Deaths - newly reported in last 7 days per 100000 population  \\\n",
       "count                                                 238             \n",
       "unique                                                102             \n",
       "top                                                     0             \n",
       "freq                                                   84             \n",
       "\n",
       "       Deaths - newly reported in last 24 hours Transmission Classification  \n",
       "count                                       239                         238  \n",
       "unique                                       51                           7  \n",
       "top                                           0      Community transmission  \n",
       "freq                                        130                         149  "
      ],
      "text/html": "<div>\n<style scoped>\n    .dataframe tbody tr th:only-of-type {\n        vertical-align: middle;\n    }\n\n    .dataframe tbody tr th {\n        vertical-align: top;\n    }\n\n    .dataframe thead th {\n        text-align: right;\n    }\n</style>\n<table border=\"1\" class=\"dataframe\">\n  <thead>\n    <tr style=\"text-align: right;\">\n      <th></th>\n      <th>Name,WHO Region</th>\n      <th>Cases - cumulative total</th>\n      <th>Cases - cumulative total per 100000 population</th>\n      <th>Cases - newly reported in last 7 days</th>\n      <th>Cases - newly reported in last 7 days per 100000 population</th>\n      <th>Cases - newly reported in last 24 hours</th>\n      <th>Deaths - cumulative total</th>\n      <th>Deaths - cumulative total per 100000 population</th>\n      <th>Deaths - newly reported in last 7 days</th>\n      <th>Deaths - newly reported in last 7 days per 100000 population</th>\n      <th>Deaths - newly reported in last 24 hours</th>\n      <th>Transmission Classification</th>\n    </tr>\n  </thead>\n  <tbody>\n    <tr>\n      <th>count</th>\n      <td>238</td>\n      <td>239</td>\n      <td>238</td>\n      <td>239</td>\n      <td>238</td>\n      <td>239</td>\n      <td>239</td>\n      <td>238</td>\n      <td>239</td>\n      <td>238</td>\n      <td>239</td>\n      <td>238</td>\n    </tr>\n    <tr>\n      <th>unique</th>\n      <td>8</td>\n      <td>224</td>\n      <td>225</td>\n      <td>183</td>\n      <td>200</td>\n      <td>135</td>\n      <td>196</td>\n      <td>205</td>\n      <td>101</td>\n      <td>102</td>\n      <td>51</td>\n      <td>7</td>\n    </tr>\n    <tr>\n      <th>top</th>\n      <td>Europe</td>\n      <td>0</td>\n      <td>0</td>\n      <td>0</td>\n      <td>0</td>\n      <td>0</td>\n      <td>0</td>\n      <td>0</td>\n      <td>0</td>\n      <td>0</td>\n      <td>0</td>\n      <td>Community transmission</td>\n    </tr>\n    <tr>\n      <th>freq</th>\n      <td>62</td>\n      <td>14</td>\n      <td>14</td>\n      <td>36</td>\n      <td>35</td>\n      <td>78</td>\n      <td>28</td>\n      <td>28</td>\n      <td>85</td>\n      <td>84</td>\n      <td>130</td>\n      <td>149</td>\n    </tr>\n  </tbody>\n</table>\n</div>"
     },
     "metadata": {},
     "execution_count": 31
    }
   ],
   "source": [
    "dtaTasaMortalidadCovid.describe()"
   ]
  },
  {
   "cell_type": "code",
   "execution_count": 32,
   "metadata": {},
   "outputs": [
    {
     "output_type": "stream",
     "name": "stdout",
     "text": [
      "Transmission Classification\nClusters of cases               43\nCommunity transmission         149\nNo cases                        24\nNot applicable                   1\nPending                          3\nSporadic cases                  17\nTransmission Classification      1\ndtype: int64\n"
     ]
    }
   ],
   "source": [
    "print(dtaTasaMortalidadCovid.groupby('Transmission Classification').size())"
   ]
  },
  {
   "cell_type": "code",
   "execution_count": 35,
   "metadata": {},
   "outputs": [
    {
     "output_type": "stream",
     "name": "stdout",
     "text": [
      "continentExp\nAfrica          14981\nAmerica         13742\nAsia            13241\nEurope          17372\nOceania          2500\nOther              64\ncontinentExp        1\ndtype: int64\n"
     ]
    }
   ],
   "source": [
    "print(dtaContagiosCovid.groupby('continentExp').size())"
   ]
  },
  {
   "cell_type": "code",
   "execution_count": 25,
   "metadata": {},
   "outputs": [
    {
     "output_type": "stream",
     "name": "stdout",
     "text": [
      "indicator\n-1079           1\n-148            1\n-15             1\n-25             1\n-28             1\n               ..\n998             1\n999             2\n999120          1\n9992            1\nweekly_count    1\nLength: 6594, dtype: int64\n"
     ]
    }
   ],
   "source": [
    "print(dtaContagiosCovid.groupby('indicator').size())"
   ]
  },
  {
   "cell_type": "code",
   "execution_count": null,
   "metadata": {},
   "outputs": [],
   "source": []
  }
 ]
}